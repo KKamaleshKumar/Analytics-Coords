{
  "nbformat": 4,
  "nbformat_minor": 0,
  "metadata": {
    "colab": {
      "name": "Text Classification",
      "provenance": [],
      "collapsed_sections": [],
      "toc_visible": true
    },
    "kernelspec": {
      "name": "python3",
      "display_name": "Python 3"
    },
    "language_info": {
      "name": "python"
    }
  },
  "cells": [
    {
      "cell_type": "markdown",
      "metadata": {
        "id": "Hn_gAlMTy9-i"
      },
      "source": [
        "**Natural Language Processing**\n",
        "\n",
        "Vinayak Gupta 18th May 2021\n",
        "\n",
        "I have built a basic RNN, GRU and LSTM from scratch using nn.Module functions.\n",
        "I have illustrated everything from scratch so if you are new to NLP. This would really help you get a good understanding of how RNN and LSTMs work.\n",
        "\n",
        "I'll provide brief explanations and links for further reading wherever I can :)\n",
        "\n",
        "\n",
        "**Dataset Download**\n",
        "\n",
        "The dataset can be downloaded here https://download.pytorch.org/tutorial/data.zip\n",
        "\n",
        "\n",
        "**Special note**\n",
        "\n",
        "All file paths used below as specific to my system. Please change them accordingly if you are using the code as it is.\n"
      ]
    },
    {
      "cell_type": "code",
      "metadata": {
        "id": "FEJq4EZSDObX"
      },
      "source": [
        "# Dependencies\n",
        "\n",
        "import io\n",
        "import os \n",
        "import unicodedata\n",
        "import string\n",
        "import glob\n",
        "\n",
        "import torch\n",
        "import torch.nn as nn\n",
        "import matplotlib.pyplot as plt\n",
        "import numpy as np\n",
        "\n",
        "import random"
      ],
      "execution_count": 1,
      "outputs": []
    },
    {
      "cell_type": "markdown",
      "metadata": {
        "id": "vtZi7PJQ7sNX"
      },
      "source": [
        "**Mounting the Drive**"
      ]
    },
    {
      "cell_type": "code",
      "metadata": {
        "colab": {
          "base_uri": "https://localhost:8080/"
        },
        "id": "z7gFhiUMLCri",
        "outputId": "672b4d64-6fe7-4f66-e66d-31d2ec503992"
      },
      "source": [
        "from google.colab import drive\n",
        "drive.mount('/content/drive')"
      ],
      "execution_count": 2,
      "outputs": [
        {
          "output_type": "stream",
          "text": [
            "Mounted at /content/drive\n"
          ],
          "name": "stdout"
        }
      ]
    },
    {
      "cell_type": "markdown",
      "metadata": {
        "id": "RrxZaesc8DUn"
      },
      "source": [
        "#**Text Classification**\n",
        "\n",
        "We are doing Name Classfication where given a input name of a person, the model predicts the place from where he is from.\n",
        "\n",
        "Example: \n",
        "\n",
        "Input: Vladimir\n",
        "\n",
        "Output: Russian\n",
        "\n",
        "We are creating a string which contains all the letters from a to z in both lowercase and uppercase and including few special characters like .,:'"
      ]
    },
    {
      "cell_type": "code",
      "metadata": {
        "colab": {
          "base_uri": "https://localhost:8080/"
        },
        "id": "ZGi0z3djG01k",
        "outputId": "0f15fffb-69b3-4f34-e803-8dd9fddd508f"
      },
      "source": [
        "# alphabet small + capital letters + \".,:\"\n",
        "ALL_LETTERS = string.ascii_letters + \" .,:'\"\n",
        "N_LETTERS = len(ALL_LETTERS)\n",
        "print(ALL_LETTERS)"
      ],
      "execution_count": 3,
      "outputs": [
        {
          "output_type": "stream",
          "text": [
            "abcdefghijklmnopqrstuvwxyzABCDEFGHIJKLMNOPQRSTUVWXYZ .,:'\n"
          ],
          "name": "stdout"
        }
      ]
    },
    {
      "cell_type": "markdown",
      "metadata": {
        "id": "8o_pusBd-aVy"
      },
      "source": [
        "#**Data Refinement**\n",
        "\n",
        "The function **unicode_to_ascii** converts special characters like Ś and Í to S and I respectively\n",
        "\n",
        "The function load_data is used to load the data.\n",
        "\n",
        "We use the glob.glob(path) function to retrieve paths recursively from inside the directories/files \n",
        "You can learn more about it from https://www.geeksforgeeks.org/how-to-use-glob-function-to-find-files-recursively-in-python/\n",
        "\n",
        "The function read_lines returns all the names of the person from a specific directory. Here it is filename\n",
        "\n",
        "**os.path.basename()** is used to get the base name in specified path\n",
        "\n",
        "**os.path.splitext()** is used to split the path name into a pair root and ext\n",
        "\n",
        "You can learn more about them from \n",
        "\n",
        "os.path.basename: https://www.geeksforgeeks.org/python-os-path-basename-method/\n",
        "\n",
        "os.path.splitext: https://www.geeksforgeeks.org/python-os-path-splitext-method/\n"
      ]
    },
    {
      "cell_type": "code",
      "metadata": {
        "id": "l7e8THyuG-d9"
      },
      "source": [
        "def unicode_to_ascii(s):\n",
        "    return ''.join(\n",
        "        c for c in unicodedata.normalize('NFD', s)\n",
        "        if unicodedata.category(c) != 'Mn'\n",
        "        and c in ALL_LETTERS\n",
        "    )\n",
        "def load_data():\n",
        "    category_lines = {}\n",
        "    all_categories = []\n",
        "\n",
        "    def find_files(path):\n",
        "        return glob.glob(path)\n",
        "\n",
        "    def read_lines(filename):\n",
        "        lines = io.open(filename, encoding='utf-8').read().strip().split('\\n')\n",
        "        return [unicode_to_ascii(line) for line in lines]\n",
        "\n",
        "    for filename in find_files('/content/drive/MyDrive/data/names/*.txt'):\n",
        "        category = os.path.splitext(os.path.basename(filename))[0]\n",
        "        all_categories.append(category)\n",
        "\n",
        "        lines = read_lines(filename)\n",
        "        category_lines[category] = lines\n",
        "\n",
        "    return category_lines, all_categories\n",
        "\n",
        "# The category_lines is a dictionary which contains the names of person from each respective country\n",
        "# all_categories is a list which contains the names of all the different country"
      ],
      "execution_count": 4,
      "outputs": []
    },
    {
      "cell_type": "markdown",
      "metadata": {
        "id": "5kwsyO5zQm5H"
      },
      "source": [
        "#**Data Processing**\n",
        "\n",
        "The function letter_to_index returns the Letter index from the all_letters string, e.g. \"a\" = 0\n",
        "\n",
        "The function letter_to_tensor turns the letter into a <1 x n_letters> Tensor like an one-hot encoding\n",
        "\n",
        "The function line_to_tensor converts a line into a < line_length x 1 x n_letters> / an array of one hot letter vectors\n",
        "\n",
        "Instead of taking the words in a batch we train it individually i.e we use batch_size = 1. We pick a random training example and train it on that"
      ]
    },
    {
      "cell_type": "code",
      "metadata": {
        "id": "RRDtGfjtOTlO"
      },
      "source": [
        "# Find Letter Index from all_letters, e.g. \"a\" = 0\n",
        "def letter_to_index(letter):\n",
        "    return ALL_LETTERS.find(letter)\n",
        "\n",
        "# Just for demonstration, turn a letter into a <1 x n_letters> Tensor\n",
        "def letter_to_tensor(letter):\n",
        "    tensor = torch.zeros(1,N_LETTERS)\n",
        "    tensor[0][letter_to_index(letter)] = 1\n",
        "    return tensor\n",
        "\n",
        "# Turn a line into a < line_length x 1 x n_letters>\n",
        "# or an array of one hot letter vectors\n",
        "\n",
        "def line_to_tensor(line):\n",
        "    tensor = torch.zeros(len(line), 1, N_LETTERS)\n",
        "    for i, letter in enumerate(line):\n",
        "        tensor[i][0][letter_to_index(letter)] = 1\n",
        "    return tensor\n",
        "\n",
        "def random_training_example(category_lines, all_categories):\n",
        "\n",
        "    def random_choice(a):\n",
        "        random_idx = random.randint(0, len(a)-1)\n",
        "        return a[random_idx]\n",
        "\n",
        "    category = random_choice(all_categories)\n",
        "    line = random_choice(category_lines[category])\n",
        "    category_tensor = torch.tensor([all_categories.index(category)], dtype=torch.long)\n",
        "    line_tensor = line_to_tensor(line)\n",
        "    return category, line, category_tensor, line_tensor\n"
      ],
      "execution_count": 5,
      "outputs": []
    },
    {
      "cell_type": "code",
      "metadata": {
        "colab": {
          "base_uri": "https://localhost:8080/"
        },
        "id": "RFINIGr4Scc2",
        "outputId": "9e2fe1b8-6417-41c3-c652-4a4464ae3e04"
      },
      "source": [
        "print(unicode_to_ascii('Ślusàrskî'))\n",
        "\n",
        "category_lines, all_categories = load_data()\n",
        "#print(category_lines['Italian'][:5])\n",
        "\n",
        "print(letter_to_tensor('J'))\n",
        "print(line_to_tensor('Jonas').size())"
      ],
      "execution_count": 7,
      "outputs": [
        {
          "output_type": "stream",
          "text": [
            "Slusarski\n",
            "tensor([[0., 0., 0., 0., 0., 0., 0., 0., 0., 0., 0., 0., 0., 0., 0., 0., 0., 0.,\n",
            "         0., 0., 0., 0., 0., 0., 0., 0., 0., 0., 0., 0., 0., 0., 0., 0., 0., 1.,\n",
            "         0., 0., 0., 0., 0., 0., 0., 0., 0., 0., 0., 0., 0., 0., 0., 0., 0., 0.,\n",
            "         0., 0., 0.]])\n",
            "torch.Size([5, 1, 57])\n"
          ],
          "name": "stdout"
        }
      ]
    },
    {
      "cell_type": "markdown",
      "metadata": {
        "id": "o7PILEI0hTt3"
      },
      "source": [
        "#**RNN**\n",
        "\n",
        "![]('/content/drive/MyDrive/1150.png')\n",
        "\n",
        "![]('https://drive.google.com/file/d/1W8apO87npO5lY7DNeOqTPBW26uBfXL3c/view?usp=sharing')"
      ]
    },
    {
      "cell_type": "code",
      "metadata": {
        "id": "S7AaOwHpZqp_"
      },
      "source": [
        "class RNN(nn.Module):\n",
        "    def __init__(self, input_size, hidden_size, output_size):\n",
        "        super(RNN, self).__init__()\n",
        "\n",
        "        self.hidden_size = hidden_size\n",
        "        self.i2h = nn.Linear(input_size + hidden_size, hidden_size)\n",
        "        self.i2o = nn.Linear(input_size + hidden_size, output_size)\n",
        "        self.softmax = nn.LogSoftmax(dim=1)\n",
        "\n",
        "    def forward(self, input_tensor, hidden_tensor):\n",
        "        combined = torch.cat((input_tensor, hidden_tensor), 1)\n",
        "        hidden = self.i2h(combined)\n",
        "        output = self.i2o(combined)\n",
        "        output = self.softmax(output)\n",
        "        return output, hidden\n",
        "\n",
        "    def init_hidden(self):\n",
        "        return torch.zeros(1, self.hidden_size)"
      ],
      "execution_count": null,
      "outputs": []
    },
    {
      "cell_type": "code",
      "metadata": {
        "id": "jhkosd-RwJ9C"
      },
      "source": [
        "class GRU(nn.Module):\n",
        "    def __init__(self,input_size, hidden_size, output_size):\n",
        "        super(GRU, self).__init__()\n",
        "\n",
        "        self.hidden_size = hidden_size\n",
        "        self.sigmoid = nn.Sigmoid()\n",
        "        self.i2u = nn.Linear(input_size + hidden_size, hidden_size)\n",
        "        self.i2r = nn.Linear(input_size + hidden_size, hidden_size)\n",
        "        self.tanh = nn.Tanh()\n",
        "        self.hidden_next = nn.Linear(input_size + hidden_size, hidden_size)\n",
        "        self.yhat = nn.Linear(hidden_size, output_size)\n",
        "        self.softmax = nn.LogSoftmax(dim=1)\n",
        "\n",
        "    def forward(self, input_tensor, hidden_tensor):\n",
        "        combined = torch.cat((input_tensor, hidden_tensor), 1)\n",
        "        z = self.i2u(combined)\n",
        "        z = self.sigmoid(z)\n",
        "        r = self.i2r(combined)\n",
        "        r = self.sigmoid(z)\n",
        "        reset = r*hidden_tensor\n",
        "        combined = torch.cat((input_tensor, reset), 1)\n",
        "        hidden_bar = self.hidden_next(combined)\n",
        "        hidden_bar = self.tanh(hidden_bar)\n",
        "        hidden = (1-z)*hidden_tensor + z*hidden_bar\n",
        "        output = self.yhat(hidden)\n",
        "        output = self.softmax(output)\n",
        "        return output, hidden\n",
        "\n",
        "    def init_hidden(self):\n",
        "        return torch.zeros(1, self.hidden_size)\n",
        "        "
      ],
      "execution_count": null,
      "outputs": []
    },
    {
      "cell_type": "code",
      "metadata": {
        "id": "s0rXa0Q3UkiA"
      },
      "source": [
        "class LSTM(nn.Module):\n",
        "    def __init__(self, input_size, hidden_size, output_size):\n",
        "        super(LSTM, self).__init__()\n",
        "\n",
        "        self.hidden_size = hidden_size\n",
        "        self.input_size = input_size\n",
        "        self.sigmoid = nn.Sigmoid()\n",
        "        self.tanh = nn.Tanh()\n",
        "        self.i2f = nn.Linear(input_size + hidden_size, hidden_size)\n",
        "        self.i2i = nn.Linear(input_size + hidden_size, hidden_size)\n",
        "        self.i2c = nn.Linear(input_size + hidden_size, hidden_size)\n",
        "        self.i2o = nn.Linear(input_size + hidden_size, hidden_size)\n",
        "        self.yhat = nn.Linear(hidden_size, output_size)\n",
        "        self.softmax = nn.LogSoftmax(dim=1)\n",
        "\n",
        "    def forward(self, input_tensor, hidden_tensor, long_term_tensor):\n",
        "        combined = torch.cat((input_tensor, hidden_tensor), 1)\n",
        "        f = self.i2f(combined)\n",
        "        f = self.sigmoid(f)\n",
        "        i = self.i2i(combined)\n",
        "        i = self.sigmoid(i)\n",
        "        c = self.i2c(combined)\n",
        "        c = self.tanh(c)\n",
        "        Ct = f*long_term_tensor + i*c\n",
        "        Ct = self.tanh(Ct)\n",
        "        o = self.i2o(combined)\n",
        "        o = self.sigmoid(o)\n",
        "        hidden = o*Ct\n",
        "        output = self.yhat(hidden)\n",
        "        output = self.softmax(output)\n",
        "        return output, hidden\n",
        "\n",
        "    def init_hidden(self):\n",
        "        return torch.zeros(1, self.hidden_size)\n",
        "\n",
        "    def init_long_term(self):\n",
        "        return torch.zeros(1, self.hidden_size)"
      ],
      "execution_count": null,
      "outputs": []
    },
    {
      "cell_type": "markdown",
      "metadata": {
        "id": "fRJ9S7uBjATQ"
      },
      "source": [
        "We load the data. n_categories is the number of different class labels. n_hidden is the number of layers in the RNN"
      ]
    },
    {
      "cell_type": "code",
      "metadata": {
        "id": "VKlE0KRhcmZb"
      },
      "source": [
        "category_lines, all_categories = load_data()\n",
        "n_categories = len(all_categories)\n",
        "n_hidden = 128"
      ],
      "execution_count": null,
      "outputs": []
    },
    {
      "cell_type": "markdown",
      "metadata": {
        "id": "NFo2_VvFjYxt"
      },
      "source": [
        "We can define rnn, gru or lstm. It is completely our choice. We have code for all 3 models. In this case I am using LSTM "
      ]
    },
    {
      "cell_type": "code",
      "metadata": {
        "id": "mnZDWnKYcrkf"
      },
      "source": [
        "# rnn = RNN(N_LETTERS, n_hidden, n_categories)\n",
        "# gru = GRU(N_LETTERS, n_hidden, n_categories)\n",
        "lstm = LSTM(N_LETTERS, n_hidden, n_categories)"
      ],
      "execution_count": null,
      "outputs": []
    },
    {
      "cell_type": "code",
      "metadata": {
        "id": "QhtARWgzdMWn",
        "colab": {
          "base_uri": "https://localhost:8080/"
        },
        "outputId": "dabfcca9-5d46-4dd9-9bc2-46bc3567486a"
      },
      "source": [
        "input_tensor = letter_to_tensor('A')\n",
        "hidden_tensor = lstm.init_hidden()\n",
        "long_term_tensor = lstm.init_long_term()\n",
        "output,  next_hidden = lstm(input_tensor, hidden_tensor, long_term_tensor)\n",
        "print(output.size())\n",
        "print(next_hidden.size())"
      ],
      "execution_count": null,
      "outputs": [
        {
          "output_type": "stream",
          "text": [
            "torch.Size([1, 18])\n",
            "torch.Size([1, 128])\n"
          ],
          "name": "stdout"
        }
      ]
    },
    {
      "cell_type": "code",
      "metadata": {
        "id": "DpmSQIKjeLSs",
        "colab": {
          "base_uri": "https://localhost:8080/"
        },
        "outputId": "e09650e2-7539-4fd9-fc7b-c516f78efac4"
      },
      "source": [
        "input_tensor = line_to_tensor('Albert')\n",
        "hidden_tensor = lstm.init_hidden()\n",
        "long_term_tensor = lstm.init_long_term()\n",
        "output,  next_hidden = lstm(input_tensor[0], hidden_tensor, long_term_tensor)\n",
        "print(output.size())\n",
        "print(next_hidden.size())"
      ],
      "execution_count": null,
      "outputs": [
        {
          "output_type": "stream",
          "text": [
            "torch.Size([1, 18])\n",
            "torch.Size([1, 128])\n"
          ],
          "name": "stdout"
        }
      ]
    },
    {
      "cell_type": "code",
      "metadata": {
        "colab": {
          "base_uri": "https://localhost:8080/"
        },
        "id": "nqwAykEse4JJ",
        "outputId": "469983de-74a3-48be-926a-e27b63f6e786"
      },
      "source": [
        "def category_from_output(output):\n",
        "    category_idx = torch.argmax(output).item()\n",
        "    return all_categories[category_idx]\n",
        "\n",
        "print(category_from_output(output))"
      ],
      "execution_count": null,
      "outputs": [
        {
          "output_type": "stream",
          "text": [
            "Portuguese\n"
          ],
          "name": "stdout"
        }
      ]
    },
    {
      "cell_type": "markdown",
      "metadata": {
        "id": "G3Nik6IXj19T"
      },
      "source": [
        "#**Training the model**\n",
        "\n",
        "Alright, let's train the model now. We randomly choose a training sample and we use that as a batch(with batch_size = 1) and train on it(like SGD)"
      ]
    },
    {
      "cell_type": "code",
      "metadata": {
        "colab": {
          "base_uri": "https://localhost:8080/",
          "height": 605
        },
        "id": "4CCP5p2zfrel",
        "outputId": "7717e1a6-c422-40ee-e98d-36a1806f2fb2"
      },
      "source": [
        "criterion = nn.NLLLoss()\n",
        "learning_rate = 0.001\n",
        "optimizer = torch.optim.SGD(lstm.parameters(), lr=learning_rate)\n",
        "\n",
        "def train(line_tensor, category_tensor):\n",
        "    hidden = lstm.init_hidden()\n",
        "    long_term_tensor = lstm.init_long_term()\n",
        "    for i in range(line_tensor.size()[0]):\n",
        "        output, hidden = lstm(line_tensor[i], hidden, long_term_tensor)\n",
        "\n",
        "    loss = criterion(output, category_tensor)\n",
        "\n",
        "    optimizer.zero_grad()\n",
        "    loss.backward()\n",
        "    optimizer.step()\n",
        "\n",
        "    return output, loss.item()\n",
        "\n",
        "current_loss = 0\n",
        "all_losses = []\n",
        "plot_steps, print_steps = 1000, 5000\n",
        "n_iters = 100000\n",
        "accuracy = 0\n",
        "\n",
        "for i in range(n_iters):\n",
        "    category, line, category_tensor, line_tensor = random_training_example(category_lines, all_categories)\n",
        "\n",
        "    output, loss = train(line_tensor, category_tensor)\n",
        "    current_loss += loss\n",
        "    guess = category_from_output(output)\n",
        "    if guess == category:\n",
        "        accuracy = accuracy + 1 \n",
        "    if (i+1) % plot_steps == 0:\n",
        "        all_losses.append(current_loss / plot_steps)\n",
        "        current_loss = 0\n",
        "\n",
        "    if (i+1) % print_steps == 0:\n",
        "        guess = category_from_output(output)\n",
        "        correct = \"CORRECT\"if guess == category else f\"WRONG ({category})\"\n",
        "        print(f\"{i+1} {(i+1)/n_iters*100:.1f} {loss:.4f} {line} / {guess} {correct}  Accuracy: {accuracy/5000}\")\n",
        "        accuracy = 0\n",
        "\n",
        "plt.figure()\n",
        "plt.plot(all_losses)\n",
        "plt.show()\n"
      ],
      "execution_count": null,
      "outputs": [
        {
          "output_type": "stream",
          "text": [
            "5000 5.0 0.0166 Villanueva / Spanish CORRECT  Accuracy: 0.9468\n",
            "10000 10.0 2.6764 BestujevLada / Spanish WRONG (Russian)  Accuracy: 0.939\n",
            "15000 15.0 1.4916 Vilson / English WRONG (Russian)  Accuracy: 0.9384\n",
            "20000 20.0 0.0239 Columbo / Italian CORRECT  Accuracy: 0.9388\n",
            "25000 25.0 0.0324 Patenaude / French CORRECT  Accuracy: 0.9494\n",
            "30000 30.0 0.0300 Fuentes / Spanish CORRECT  Accuracy: 0.9462\n",
            "35000 35.0 0.0562 Fergus / Irish CORRECT  Accuracy: 0.9484\n",
            "40000 40.0 0.0000 Astrakhantsev / Russian CORRECT  Accuracy: 0.9412\n",
            "45000 45.0 0.0049 Pinheiro / Portuguese CORRECT  Accuracy: 0.9456\n",
            "50000 50.0 0.0300 Favre / French CORRECT  Accuracy: 0.945\n",
            "55000 55.0 0.0198 Archambault / French CORRECT  Accuracy: 0.9462\n",
            "60000 60.0 0.4448 Kim / Vietnamese CORRECT  Accuracy: 0.9386\n",
            "65000 65.0 2.7306 Vaver / German WRONG (Russian)  Accuracy: 0.944\n",
            "70000 70.0 0.0127 Prinsen / Dutch CORRECT  Accuracy: 0.9374\n",
            "75000 75.0 0.1718 Geryk / Czech CORRECT  Accuracy: 0.9414\n",
            "80000 80.0 1.5219 Basurto / Portuguese WRONG (Spanish)  Accuracy: 0.9386\n",
            "85000 85.0 0.0079 Aalst / Dutch CORRECT  Accuracy: 0.9448\n",
            "90000 90.0 0.0072 Pereira / Portuguese CORRECT  Accuracy: 0.938\n",
            "95000 95.0 0.0009 Ajibana / Japanese CORRECT  Accuracy: 0.9426\n",
            "100000 100.0 0.6749 Enns / German CORRECT  Accuracy: 0.9474\n"
          ],
          "name": "stdout"
        },
        {
          "output_type": "display_data",
          "data": {
            "image/png": "[encoded data removed]",
            "text/plain": [
              "<Figure size 432x288 with 1 Axes>"
            ]
          },
          "metadata": {
            "tags": [],
            "needs_background": "light"
          }
        }
      ]
    },
    {
      "cell_type": "code",
      "metadata": {
        "colab": {
          "base_uri": "https://localhost:8080/"
        },
        "id": "0-KIwnOUmCrU",
        "outputId": "7ccbb720-0882-42dd-c562-9522d14b1ed5"
      },
      "source": [
        "def predict(input_line):\n",
        "    print(f\"\\n> {input_line}\")\n",
        "    with torch.no_grad():\n",
        "        line_tensor = line_to_tensor(input_line)\n",
        "        hidden = rnn.init_hidden()\n",
        "\n",
        "        for i in range(line_tensor.size()[0]):\n",
        "            output, hidden = rnn(line_tensor[i], hidden)\n",
        "\n",
        "        guess = category_from_output(output)\n",
        "        print(guess)\n",
        "predict('Buttler')"
      ],
      "execution_count": null,
      "outputs": [
        {
          "output_type": "stream",
          "text": [
            "\n",
            "> Jo\n",
            "Korean\n"
          ],
          "name": "stdout"
        }
      ]
    }
  ]
}